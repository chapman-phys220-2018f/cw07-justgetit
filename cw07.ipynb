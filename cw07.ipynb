{
 "cells": [
  {
   "cell_type": "code",
   "execution_count": 0,
   "metadata": {
    "collapsed": false
   },
   "outputs": [
   ],
   "source": [
    "import cw07\n",
    "import numpy as np\n",
    "import pandas as pd"
   ]
  },
  {
   "cell_type": "markdown",
   "metadata": {
    "collapsed": false
   },
   "source": [
    "# Classwork 07\n",
    "\n",
    "Gage Kizzar, Monica Hiemer, Jessica Trawick\n",
    "\n",
    "10/90/18\n",
    "\n",
    "## Instructions\n",
    "\n",
    "First, go through the slides indicated in the README and place any code fragments to test in the following subsection. Second, go through the rest of the notebook, execute lines to test them, and complete the coding assignments.\n",
    "\n",
    "### Slide Scratch Work\n",
    "\n",
    "**import numpy as np\n",
    "lnp = np.array([1,2])\n",
    "lnp : numpy array\n",
    "length : size (2)\n",
    "type   : type (int)\n",
    "lnp : numpy array\n",
    "\n",
    "**\n",
    "**Data type**\t**Description**\n",
    "In [1]: import numpy as np\n",
    "\n",
    "In [2]: %time x = np.linspace(-100,100,1000000)\n",
    "CPU times: user 12 ms, sys: 8 ms, total: 20 ms\n",
    "Wall time: 17.4 ms\n",
    "\n",
    "In [3]: D = 5.0\n",
    "\n",
    "In [4]: x0 = -3.5\n",
    "\n",
    "In [5]: %time g = (1.0/np.sqrt(2*np.pi*D))*np.exp(-(x - x0)**2/(2*D))\n",
    "CPU times: user 52 ms, sys: 8 ms, total: 60 ms\n",
    "Wall time: 58.7 ms\n",
    "\n",
    "\n",
    "\n",
    "\n",
    "## Description\n",
    "\n",
    "The following code benchmarks and plots functions approximated both as python lists and as numpy arrays."
   ]
  },
  {
   "cell_type": "markdown",
   "metadata": {
    "collapsed": false
   },
   "source": [
    "### Module Documentation\n",
    "\n",
    "For illustration, here is a reminder of how the python help system naturally uses the docstrings from the code.\n"
   ]
  },
  {
   "cell_type": "code",
   "execution_count": 0,
   "metadata": {
    "collapsed": false
   },
   "outputs": [
   ],
   "source": [
    "help(cw07)"
   ]
  },
  {
   "cell_type": "code",
   "execution_count": 0,
   "metadata": {
    "collapsed": false
   },
   "outputs": [
   ],
   "source": [
    "help(cw07.gen_gaussian_list)"
   ]
  },
  {
   "cell_type": "code",
   "execution_count": 0,
   "metadata": {
    "collapsed": false
   },
   "outputs": [
   ],
   "source": [
    "?cw07.gen_gaussian_array"
   ]
  },
  {
   "cell_type": "markdown",
   "metadata": {
    "collapsed": false
   },
   "source": [
    "### Python Lists\n",
    "\n",
    "Benchmark and plot the reference list implementation."
   ]
  },
  {
   "cell_type": "markdown",
   "metadata": {
    "collapsed": false
   },
   "source": [
    "#### Gaussian Function"
   ]
  },
  {
   "cell_type": "code",
   "execution_count": 0,
   "metadata": {
    "collapsed": false
   },
   "outputs": [
   ],
   "source": [
    "%time x, g = cw07.gen_gaussian_list(-10,10,1000001)"
   ]
  },
  {
   "cell_type": "code",
   "execution_count": 0,
   "metadata": {
    "collapsed": false
   },
   "outputs": [
   ],
   "source": [
    "gauss = pd.DataFrame({\"x\":x,\"g(x)\":g})"
   ]
  },
  {
   "cell_type": "code",
   "execution_count": 0,
   "metadata": {
    "collapsed": false
   },
   "outputs": [
   ],
   "source": [
    "gauss"
   ]
  },
  {
   "cell_type": "code",
   "execution_count": 0,
   "metadata": {
    "collapsed": false
   },
   "outputs": [
   ],
   "source": [
    "gauss.plot(x=\"x\",y=\"g(x)\")"
   ]
  },
  {
   "cell_type": "markdown",
   "metadata": {
    "collapsed": false
   },
   "source": [
    "### Numpy Arrays"
   ]
  },
  {
   "cell_type": "markdown",
   "metadata": {
    "collapsed": false
   },
   "source": [
    "#### Gaussian Function"
   ]
  },
  {
   "cell_type": "code",
   "execution_count": 0,
   "metadata": {
    "collapsed": false
   },
   "outputs": [
   ],
   "source": [
    "%time x, g = cw07.gen_gaussian_array(-10, 10, 1000001)"
   ]
  },
  {
   "cell_type": "code",
   "execution_count": 0,
   "metadata": {
    "collapsed": false
   },
   "outputs": [
   ],
   "source": [
    "gauss = pd.DataFrame({\"x\":x,\"g(x)\":g})"
   ]
  },
  {
   "cell_type": "code",
   "execution_count": 0,
   "metadata": {
    "collapsed": false
   },
   "outputs": [
   ],
   "source": [
    "gauss.plot(x=\"x\",y=\"g(x)\")"
   ]
  },
  {
   "cell_type": "markdown",
   "metadata": {
    "collapsed": false
   },
   "source": [
    "## Conclusions\n",
    "\n",
    "Place your conclusion about your investigations at the end in a well-written conclusion section."
   ]
  }
 ],
 "metadata": {
  "kernelspec": {
   "display_name": "Python 3 (Anaconda 5)",
   "language": "python",
   "name": "anaconda5"
  },
  "language_info": {
   "codemirror_mode": {
    "name": "ipython",
    "version": 3
   },
   "file_extension": ".py",
   "mimetype": "text/x-python",
   "name": "python",
   "nbconvert_exporter": "python",
   "pygments_lexer": "ipython3",
   "version": "3.6.5"
  }
 },
 "nbformat": 4,
 "nbformat_minor": 0
}